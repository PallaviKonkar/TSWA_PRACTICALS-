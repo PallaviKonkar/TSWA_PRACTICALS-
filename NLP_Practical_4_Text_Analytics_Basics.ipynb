{
  "nbformat": 4,
  "nbformat_minor": 0,
  "metadata": {
    "colab": {
      "provenance": []
    },
    "kernelspec": {
      "name": "python3",
      "display_name": "Python 3"
    },
    "language_info": {
      "name": "python"
    }
  },
  "cells": [
    {
      "cell_type": "markdown",
      "source": [
        "##TSWA PRACTICAL 4 - BASICS OF TEXT ANALYTICS"
      ],
      "metadata": {
        "id": "7B8euaruD6ZW"
      }
    },
    {
      "cell_type": "markdown",
      "source": [
        "### Working with Text\n",
        "### Types of strings\n",
        "### Simple Strings"
      ],
      "metadata": {
        "id": "P2ku5w9pEC5K"
      }
    },
    {
      "cell_type": "code",
      "source": [
        "simple_str1='Hello!!'+'I am a simple string'\n",
        "simple_str1"
      ],
      "metadata": {
        "id": "W28HHwiFEIGF",
        "outputId": "8a90425c-7d8d-4b62-870e-551bd2ec1ff2",
        "colab": {
          "base_uri": "https://localhost:8080/",
          "height": 36
        }
      },
      "execution_count": 1,
      "outputs": [
        {
          "output_type": "execute_result",
          "data": {
            "text/plain": [
              "'Hello!!I am a simple string'"
            ],
            "application/vnd.google.colaboratory.intrinsic+json": {
              "type": "string"
            }
          },
          "metadata": {},
          "execution_count": 1
        }
      ]
    },
    {
      "cell_type": "code",
      "source": [
        "multiline_str2='Hello!!\\n I am a simple string'\n",
        "print(multiline_str2)"
      ],
      "metadata": {
        "colab": {
          "base_uri": "https://localhost:8080/"
        },
        "id": "7DWEJJRrMKHT",
        "outputId": "65b09c8b-a450-4fb6-ba6d-401956499eba"
      },
      "execution_count": 2,
      "outputs": [
        {
          "output_type": "stream",
          "name": "stdout",
          "text": [
            "Hello!!\n",
            " I am a simple string\n"
          ]
        }
      ]
    },
    {
      "cell_type": "code",
      "source": [
        "# Extracting the text from the txt file\n",
        "Extract_str='/content/drive/MyDrive/text_data.txt'\n",
        "Extract_str\n",
        "#print(Extract_str)"
      ],
      "metadata": {
        "colab": {
          "base_uri": "https://localhost:8080/",
          "height": 36
        },
        "id": "ChCRkj15MzKA",
        "outputId": "8dd2db87-cab6-4745-8593-0790773908e2"
      },
      "execution_count": 3,
      "outputs": [
        {
          "output_type": "execute_result",
          "data": {
            "text/plain": [
              "'/content/drive/MyDrive/text_data.txt'"
            ],
            "application/vnd.google.colaboratory.intrinsic+json": {
              "type": "string"
            }
          },
          "metadata": {},
          "execution_count": 3
        }
      ]
    },
    {
      "cell_type": "code",
      "source": [
        "# Deriving the raw string(wihtout the quotes)\n",
        "raw_str=r'/content/drive/MyDrive/text_data.txt'\n",
        "print(raw_str)"
      ],
      "metadata": {
        "colab": {
          "base_uri": "https://localhost:8080/"
        },
        "id": "myQG2lDdNje6",
        "outputId": "c60535ad-8d5d-4a0a-cfe1-8036046363ee"
      },
      "execution_count": 4,
      "outputs": [
        {
          "output_type": "stream",
          "name": "stdout",
          "text": [
            "/content/drive/MyDrive/text_data.txt\n"
          ]
        }
      ]
    },
    {
      "cell_type": "code",
      "source": [
        "# Basic Opeartions on strings\n",
        "str1='Hello!!'+'and Welcome to '+'Text analytics!!'\n",
        "str1"
      ],
      "metadata": {
        "colab": {
          "base_uri": "https://localhost:8080/",
          "height": 36
        },
        "id": "-QyhGL1-OMkr",
        "outputId": "2e6d7d3f-95c2-48bf-98d0-69966d58508f"
      },
      "execution_count": 5,
      "outputs": [
        {
          "output_type": "execute_result",
          "data": {
            "text/plain": [
              "'Hello!!and Welcome to Text analytics!!'"
            ],
            "application/vnd.google.colaboratory.intrinsic+json": {
              "type": "string"
            }
          },
          "metadata": {},
          "execution_count": 5
        }
      ]
    },
    {
      "cell_type": "code",
      "source": [
        "str2='Hello!!''and Welcome to ''Text analytics!!'\n",
        "str2"
      ],
      "metadata": {
        "colab": {
          "base_uri": "https://localhost:8080/",
          "height": 36
        },
        "id": "jCBOVLISOlqz",
        "outputId": "069b72a4-2088-4006-8bd9-0427164d644f"
      },
      "execution_count": 6,
      "outputs": [
        {
          "output_type": "execute_result",
          "data": {
            "text/plain": [
              "'Hello!!and Welcome to Text analytics!!'"
            ],
            "application/vnd.google.colaboratory.intrinsic+json": {
              "type": "string"
            }
          },
          "metadata": {},
          "execution_count": 6
        }
      ]
    },
    {
      "cell_type": "code",
      "source": [
        "# Getting multiline text\n",
        "print(str1+'\\n'+str2)"
      ],
      "metadata": {
        "colab": {
          "base_uri": "https://localhost:8080/"
        },
        "id": "qkSwBDUdOxiI",
        "outputId": "2703f19d-0437-4465-949d-78e38cde8b63"
      },
      "execution_count": 7,
      "outputs": [
        {
          "output_type": "stream",
          "name": "stdout",
          "text": [
            "Hello!!and Welcome to Text analytics!!\n",
            "Hello!!and Welcome to Text analytics!!\n"
          ]
        }
      ]
    },
    {
      "cell_type": "code",
      "source": [
        "print(str1*2)"
      ],
      "metadata": {
        "colab": {
          "base_uri": "https://localhost:8080/"
        },
        "id": "8b0AbSInPB0M",
        "outputId": "cbca5684-7397-4aef-919d-ea916bbbc71a"
      },
      "execution_count": 8,
      "outputs": [
        {
          "output_type": "stream",
          "name": "stdout",
          "text": [
            "Hello!!and Welcome to Text analytics!!Hello!!and Welcome to Text analytics!!\n"
          ]
        }
      ]
    },
    {
      "cell_type": "code",
      "source": [
        "# Concatenating the multiple strings\n",
        "multiple_str=('This ''is ''the ''Text Analytics session.''\\n''Please feel free to ask the doubts')\n",
        "print(multiple_str)"
      ],
      "metadata": {
        "colab": {
          "base_uri": "https://localhost:8080/"
        },
        "id": "3JJuh6vHPNPt",
        "outputId": "4c7bc54e-b271-456f-de9f-fdd4dcafa30d"
      },
      "execution_count": 9,
      "outputs": [
        {
          "output_type": "stream",
          "name": "stdout",
          "text": [
            "This is the Text Analytics session.\n",
            "Please feel free to ask the doubts\n"
          ]
        }
      ]
    },
    {
      "cell_type": "code",
      "source": [
        "# To find the length of the string\n",
        "print(len(multiple_str))"
      ],
      "metadata": {
        "colab": {
          "base_uri": "https://localhost:8080/"
        },
        "id": "q0DMD5meQBgs",
        "outputId": "d1811482-3595-41bd-ade3-c52fba198fa6"
      },
      "execution_count": 10,
      "outputs": [
        {
          "output_type": "stream",
          "name": "stdout",
          "text": [
            "70\n"
          ]
        }
      ]
    },
    {
      "cell_type": "code",
      "source": [
        "# The check for the substring in a string, which returns true or false\n",
        "'This' in multiple_str"
      ],
      "metadata": {
        "colab": {
          "base_uri": "https://localhost:8080/"
        },
        "id": "8kAmH7H4QRkk",
        "outputId": "e1f40273-5d9f-4076-c01b-28ca6afb4cb9"
      },
      "execution_count": 11,
      "outputs": [
        {
          "output_type": "execute_result",
          "data": {
            "text/plain": [
              "True"
            ]
          },
          "metadata": {},
          "execution_count": 11
        }
      ]
    },
    {
      "cell_type": "code",
      "source": [
        "'Web' in multiple_str"
      ],
      "metadata": {
        "colab": {
          "base_uri": "https://localhost:8080/"
        },
        "id": "Yj6kiNkTQkyb",
        "outputId": "03370fce-fc0e-450b-9d31-332dddc8cc13"
      },
      "execution_count": 12,
      "outputs": [
        {
          "output_type": "execute_result",
          "data": {
            "text/plain": [
              "False"
            ]
          },
          "metadata": {},
          "execution_count": 12
        }
      ]
    },
    {
      "cell_type": "code",
      "source": [
        "# To create a string for indexing and slicing\n",
        "str2='Python'\n",
        "for index, character in enumerate(str2):\n",
        "  print(character,index)"
      ],
      "metadata": {
        "colab": {
          "base_uri": "https://localhost:8080/"
        },
        "id": "UZrLYSQsQxXE",
        "outputId": "a9d0577e-315e-428e-f53c-aeaa7b32a0de"
      },
      "execution_count": 13,
      "outputs": [
        {
          "output_type": "stream",
          "name": "stdout",
          "text": [
            "P 0\n",
            "y 1\n",
            "t 2\n",
            "h 3\n",
            "o 4\n",
            "n 5\n"
          ]
        }
      ]
    },
    {
      "cell_type": "code",
      "source": [
        "# Print the characters in the orginal order\n",
        "str2[0],str2[1],str2[2],str2[3],str2[4],str2[5]"
      ],
      "metadata": {
        "colab": {
          "base_uri": "https://localhost:8080/"
        },
        "id": "TqwriEzMRiyF",
        "outputId": "ac1d35e1-d0d9-4152-9448-0c3611a36a07"
      },
      "execution_count": 14,
      "outputs": [
        {
          "output_type": "execute_result",
          "data": {
            "text/plain": [
              "('P', 'y', 't', 'h', 'o', 'n')"
            ]
          },
          "metadata": {},
          "execution_count": 14
        }
      ]
    },
    {
      "cell_type": "code",
      "source": [
        "# Print the characters in the reverse order\n",
        "str2[-1],str2[-2],str2[-3],str2[-4],str2[-5],str2[-6]"
      ],
      "metadata": {
        "colab": {
          "base_uri": "https://localhost:8080/"
        },
        "id": "WSeDHJhuRzDI",
        "outputId": "17bcb73d-b8c5-4d8f-ab6c-42ecef489e5f"
      },
      "execution_count": 15,
      "outputs": [
        {
          "output_type": "execute_result",
          "data": {
            "text/plain": [
              "('n', 'o', 'h', 't', 'y', 'P')"
            ]
          },
          "metadata": {},
          "execution_count": 15
        }
      ]
    },
    {
      "cell_type": "code",
      "source": [
        "# String Slicing\n",
        "str2[:]"
      ],
      "metadata": {
        "colab": {
          "base_uri": "https://localhost:8080/",
          "height": 36
        },
        "id": "mP5vrQkTSOcc",
        "outputId": "b5c0046a-d8e2-4fbd-fba3-d9a862b23870"
      },
      "execution_count": 16,
      "outputs": [
        {
          "output_type": "execute_result",
          "data": {
            "text/plain": [
              "'Python'"
            ],
            "application/vnd.google.colaboratory.intrinsic+json": {
              "type": "string"
            }
          },
          "metadata": {},
          "execution_count": 16
        }
      ]
    },
    {
      "cell_type": "code",
      "source": [
        "str2[1:5]"
      ],
      "metadata": {
        "colab": {
          "base_uri": "https://localhost:8080/",
          "height": 36
        },
        "id": "e_hvP341SbPR",
        "outputId": "d545a6de-4398-4522-9917-93a5264d5fda"
      },
      "execution_count": 17,
      "outputs": [
        {
          "output_type": "execute_result",
          "data": {
            "text/plain": [
              "'ytho'"
            ],
            "application/vnd.google.colaboratory.intrinsic+json": {
              "type": "string"
            }
          },
          "metadata": {},
          "execution_count": 17
        }
      ]
    },
    {
      "cell_type": "code",
      "source": [
        "# To print characters upto 2 < 3\n",
        "str2[:3]"
      ],
      "metadata": {
        "colab": {
          "base_uri": "https://localhost:8080/",
          "height": 36
        },
        "id": "weOOrX6NSqjE",
        "outputId": "66b534b6-1d2f-4135-e860-86d25ef5e3f1"
      },
      "execution_count": 18,
      "outputs": [
        {
          "output_type": "execute_result",
          "data": {
            "text/plain": [
              "'Pyt'"
            ],
            "application/vnd.google.colaboratory.intrinsic+json": {
              "type": "string"
            }
          },
          "metadata": {},
          "execution_count": 18
        }
      ]
    },
    {
      "cell_type": "code",
      "source": [
        "# To print characters beyond 3\n",
        "str2[3:]\n"
      ],
      "metadata": {
        "colab": {
          "base_uri": "https://localhost:8080/",
          "height": 36
        },
        "id": "mi58xRQ0S4Cg",
        "outputId": "06b4f0d6-1b88-477e-8d0b-2d548f9d6985"
      },
      "execution_count": 19,
      "outputs": [
        {
          "output_type": "execute_result",
          "data": {
            "text/plain": [
              "'hon'"
            ],
            "application/vnd.google.colaboratory.intrinsic+json": {
              "type": "string"
            }
          },
          "metadata": {},
          "execution_count": 19
        }
      ]
    },
    {
      "cell_type": "code",
      "source": [
        "# Getting details of the string / text\n",
        "new_string = \"This is a String\" # storing a string\n",
        "print('ID:', id(new_string)) # shows the object identifier (address)\n",
        "print('Type:', type(new_string)) # shows the object type\n",
        "print('Value:', new_string) # shows the object value"
      ],
      "metadata": {
        "colab": {
          "base_uri": "https://localhost:8080/"
        },
        "id": "qJOCsxMZzXP9",
        "outputId": "68f7b7b0-5368-4ad3-b9b7-fe4a1126f7e3"
      },
      "execution_count": 20,
      "outputs": [
        {
          "output_type": "stream",
          "name": "stdout",
          "text": [
            "ID: 137868573111712\n",
            "Type: <class 'str'>\n",
            "Value: This is a String\n"
          ]
        }
      ]
    },
    {
      "cell_type": "code",
      "source": [
        "# String Methods\n",
        "# creates a new string\n",
        "s=''\n",
        "print(s)"
      ],
      "metadata": {
        "colab": {
          "base_uri": "https://localhost:8080/"
        },
        "id": "KP8t_4WDdg4z",
        "outputId": "4c1b0f24-2380-4153-8ff0-073489efe260"
      },
      "execution_count": 21,
      "outputs": [
        {
          "output_type": "stream",
          "name": "stdout",
          "text": [
            "\n"
          ]
        }
      ]
    },
    {
      "cell_type": "code",
      "source": [
        "print('orginal string id',id(s))\n",
        "# add a character to the string\n",
        "s='B'+s[1:]"
      ],
      "metadata": {
        "colab": {
          "base_uri": "https://localhost:8080/"
        },
        "id": "xupOEYVA14N5",
        "outputId": "21064c5d-5bdb-4d2a-9e3a-046684a8978f"
      },
      "execution_count": 22,
      "outputs": [
        {
          "output_type": "stream",
          "name": "stdout",
          "text": [
            "orginal string id 137869080854576\n"
          ]
        }
      ]
    },
    {
      "cell_type": "code",
      "source": [
        "print(s)"
      ],
      "metadata": {
        "colab": {
          "base_uri": "https://localhost:8080/"
        },
        "id": "hIvqJUKf2Zy2",
        "outputId": "09be6ae0-3ded-44d6-fac7-fb0b80c1f61c"
      },
      "execution_count": 23,
      "outputs": [
        {
          "output_type": "stream",
          "name": "stdout",
          "text": [
            "B\n"
          ]
        }
      ]
    },
    {
      "cell_type": "code",
      "source": [
        "s='BIRLA'+s[1:]"
      ],
      "metadata": {
        "id": "aRqsvGaC2QfY"
      },
      "execution_count": 24,
      "outputs": []
    },
    {
      "cell_type": "code",
      "source": [
        "print(s)"
      ],
      "metadata": {
        "colab": {
          "base_uri": "https://localhost:8080/"
        },
        "id": "9SnMIFj02HyY",
        "outputId": "6de59c7c-2954-4645-d709-d05ff670522e"
      },
      "execution_count": 25,
      "outputs": [
        {
          "output_type": "stream",
          "name": "stdout",
          "text": [
            "BIRLA\n"
          ]
        }
      ]
    },
    {
      "cell_type": "code",
      "source": [
        "print('new string id',id(s))"
      ],
      "metadata": {
        "colab": {
          "base_uri": "https://localhost:8080/"
        },
        "id": "VKCo6VP02tJc",
        "outputId": "06283b3c-c3ed-4177-a3fa-7a879cae4191"
      },
      "execution_count": 26,
      "outputs": [
        {
          "output_type": "stream",
          "name": "stdout",
          "text": [
            "new string id 137868573145328\n"
          ]
        }
      ]
    },
    {
      "cell_type": "code",
      "source": [
        "# String Methods\n",
        "str='NLP is great!!'"
      ],
      "metadata": {
        "id": "ae92Xtsq3ATg"
      },
      "execution_count": 27,
      "outputs": []
    },
    {
      "cell_type": "code",
      "source": [
        "# case conversion\n",
        "# 1 Capitalise - First Character of the begining word will be capitalized\n",
        "str.capitalize()"
      ],
      "metadata": {
        "colab": {
          "base_uri": "https://localhost:8080/",
          "height": 36
        },
        "id": "anxWkuF83Ho7",
        "outputId": "9e152282-01b9-46fd-d8d2-5a95b13f699f"
      },
      "execution_count": 28,
      "outputs": [
        {
          "output_type": "execute_result",
          "data": {
            "text/plain": [
              "'Nlp is great!!'"
            ],
            "application/vnd.google.colaboratory.intrinsic+json": {
              "type": "string"
            }
          },
          "metadata": {},
          "execution_count": 28
        }
      ]
    },
    {
      "cell_type": "code",
      "source": [
        "# 2 Upper case - all the characters will be in upper case\n",
        "str.upper()\n"
      ],
      "metadata": {
        "colab": {
          "base_uri": "https://localhost:8080/",
          "height": 36
        },
        "id": "W6YRy6OM3cXe",
        "outputId": "01c7d216-0440-47c2-8c98-526e90003a5f"
      },
      "execution_count": 29,
      "outputs": [
        {
          "output_type": "execute_result",
          "data": {
            "text/plain": [
              "'NLP IS GREAT!!'"
            ],
            "application/vnd.google.colaboratory.intrinsic+json": {
              "type": "string"
            }
          },
          "metadata": {},
          "execution_count": 29
        }
      ]
    },
    {
      "cell_type": "code",
      "source": [
        "# 2 a Lower case - all the letters are in lower case\n",
        "str.lower()"
      ],
      "metadata": {
        "colab": {
          "base_uri": "https://localhost:8080/",
          "height": 36
        },
        "id": "JAHwwerb4Fun",
        "outputId": "433738fd-329d-45d9-d2fd-a1130d78c0c7"
      },
      "execution_count": 30,
      "outputs": [
        {
          "output_type": "execute_result",
          "data": {
            "text/plain": [
              "'nlp is great!!'"
            ],
            "application/vnd.google.colaboratory.intrinsic+json": {
              "type": "string"
            }
          },
          "metadata": {},
          "execution_count": 30
        }
      ]
    },
    {
      "cell_type": "code",
      "source": [
        "# 3 Sentence in title case - first charcter of every word is in upper case\n",
        "str.title()"
      ],
      "metadata": {
        "colab": {
          "base_uri": "https://localhost:8080/",
          "height": 36
        },
        "id": "GsXvNn2z3qsz",
        "outputId": "ce621e28-0be8-4f52-a477-5f85201f9249"
      },
      "execution_count": 31,
      "outputs": [
        {
          "output_type": "execute_result",
          "data": {
            "text/plain": [
              "'Nlp Is Great!!'"
            ],
            "application/vnd.google.colaboratory.intrinsic+json": {
              "type": "string"
            }
          },
          "metadata": {},
          "execution_count": 31
        }
      ]
    },
    {
      "cell_type": "code",
      "source": [
        "# String replacment in the text\n",
        "str.replace('NLP','Python')"
      ],
      "metadata": {
        "colab": {
          "base_uri": "https://localhost:8080/",
          "height": 36
        },
        "id": "ElV2nmOd4SZC",
        "outputId": "ebf96a3d-26d2-45b1-a6b0-53ffc7b427c4"
      },
      "execution_count": 32,
      "outputs": [
        {
          "output_type": "execute_result",
          "data": {
            "text/plain": [
              "'Python is great!!'"
            ],
            "application/vnd.google.colaboratory.intrinsic+json": {
              "type": "string"
            }
          },
          "metadata": {},
          "execution_count": 32
        }
      ]
    },
    {
      "cell_type": "code",
      "source": [
        "# Checks on the strings/word- numeric, alpha, alphanumeric\n",
        "str.isnumeric()"
      ],
      "metadata": {
        "colab": {
          "base_uri": "https://localhost:8080/"
        },
        "id": "bqR6JJCm4iv9",
        "outputId": "ea6ad455-c2c6-4617-e1fb-f2c5b5b41cd4"
      },
      "execution_count": 33,
      "outputs": [
        {
          "output_type": "execute_result",
          "data": {
            "text/plain": [
              "False"
            ]
          },
          "metadata": {},
          "execution_count": 33
        }
      ]
    },
    {
      "cell_type": "code",
      "source": [
        "str.isalpha()"
      ],
      "metadata": {
        "colab": {
          "base_uri": "https://localhost:8080/"
        },
        "id": "n20goX6P4_rp",
        "outputId": "69969d4e-aae3-483d-8786-30e9cfc815b5"
      },
      "execution_count": 34,
      "outputs": [
        {
          "output_type": "execute_result",
          "data": {
            "text/plain": [
              "False"
            ]
          },
          "metadata": {},
          "execution_count": 34
        }
      ]
    },
    {
      "cell_type": "code",
      "source": [
        "str.isalnum()"
      ],
      "metadata": {
        "colab": {
          "base_uri": "https://localhost:8080/"
        },
        "id": "VwJzuSes5LP7",
        "outputId": "4f87a1d8-91d4-467a-9314-04dac5e19fd8"
      },
      "execution_count": 35,
      "outputs": [
        {
          "output_type": "execute_result",
          "data": {
            "text/plain": [
              "False"
            ]
          },
          "metadata": {},
          "execution_count": 35
        }
      ]
    },
    {
      "cell_type": "code",
      "source": [
        "str1='12345'\n",
        "str1.isnumeric()"
      ],
      "metadata": {
        "colab": {
          "base_uri": "https://localhost:8080/"
        },
        "id": "QNxOwbma4-ry",
        "outputId": "9ccff6f8-a4b3-41c7-a77e-51c0b477f22c"
      },
      "execution_count": 36,
      "outputs": [
        {
          "output_type": "execute_result",
          "data": {
            "text/plain": [
              "True"
            ]
          },
          "metadata": {},
          "execution_count": 36
        }
      ]
    },
    {
      "cell_type": "code",
      "source": [
        "str2='emp101'\n",
        "str2.isalnum()"
      ],
      "metadata": {
        "colab": {
          "base_uri": "https://localhost:8080/"
        },
        "id": "j-VfJfVK5mGF",
        "outputId": "1e2c13d2-a063-4300-f652-a16151aa6e2b"
      },
      "execution_count": 37,
      "outputs": [
        {
          "output_type": "execute_result",
          "data": {
            "text/plain": [
              "True"
            ]
          },
          "metadata": {},
          "execution_count": 37
        }
      ]
    },
    {
      "cell_type": "code",
      "source": [
        "str3='15+20'\n",
        "str3.isnumeric()"
      ],
      "metadata": {
        "colab": {
          "base_uri": "https://localhost:8080/"
        },
        "id": "tFVsCF4I5-A6",
        "outputId": "d5eaa89a-0fd5-4441-fb37-6eb14f268ca7"
      },
      "execution_count": 38,
      "outputs": [
        {
          "output_type": "execute_result",
          "data": {
            "text/plain": [
              "False"
            ]
          },
          "metadata": {},
          "execution_count": 38
        }
      ]
    },
    {
      "cell_type": "code",
      "source": [
        "str3.isalpha()"
      ],
      "metadata": {
        "colab": {
          "base_uri": "https://localhost:8080/"
        },
        "id": "kA0rihP56UpR",
        "outputId": "43755cb6-46f2-419e-e6a3-d0419b74ead2"
      },
      "execution_count": 39,
      "outputs": [
        {
          "output_type": "execute_result",
          "data": {
            "text/plain": [
              "False"
            ]
          },
          "metadata": {},
          "execution_count": 39
        }
      ]
    },
    {
      "cell_type": "code",
      "source": [
        "str3.isalnum()"
      ],
      "metadata": {
        "colab": {
          "base_uri": "https://localhost:8080/"
        },
        "id": "qyEdqkkZ6WjR",
        "outputId": "5d85d159-8a10-4821-b63f-61fc703e9dd7"
      },
      "execution_count": 40,
      "outputs": [
        {
          "output_type": "execute_result",
          "data": {
            "text/plain": [
              "False"
            ]
          },
          "metadata": {},
          "execution_count": 40
        }
      ]
    },
    {
      "cell_type": "code",
      "source": [
        "# to split, join, and strip the given strings\n",
        "str4='I, love, indian, food'"
      ],
      "metadata": {
        "id": "qMQHwI4-6lDd"
      },
      "execution_count": 41,
      "outputs": []
    },
    {
      "cell_type": "code",
      "source": [
        "# Split\n",
        "str4.split()"
      ],
      "metadata": {
        "colab": {
          "base_uri": "https://localhost:8080/"
        },
        "id": "5DYUY23e6ztV",
        "outputId": "62ce3d7a-7858-4d8a-ea1e-93135a5d0cf0"
      },
      "execution_count": 42,
      "outputs": [
        {
          "output_type": "execute_result",
          "data": {
            "text/plain": [
              "['I,', 'love,', 'indian,', 'food']"
            ]
          },
          "metadata": {},
          "execution_count": 42
        }
      ]
    },
    {
      "cell_type": "code",
      "source": [
        "# Joining the words by a blank space instead a ','\n",
        "' '.join(str4.split(','))"
      ],
      "metadata": {
        "colab": {
          "base_uri": "https://localhost:8080/",
          "height": 36
        },
        "id": "-Lkto4A87D9Q",
        "outputId": "dd55f94b-c91a-452c-8924-e1e3d688846f"
      },
      "execution_count": 43,
      "outputs": [
        {
          "output_type": "execute_result",
          "data": {
            "text/plain": [
              "'I  love  indian  food'"
            ],
            "application/vnd.google.colaboratory.intrinsic+json": {
              "type": "string"
            }
          },
          "metadata": {},
          "execution_count": 43
        }
      ]
    },
    {
      "cell_type": "code",
      "source": [
        "str5='  Python is great!!'\n",
        "str5"
      ],
      "metadata": {
        "colab": {
          "base_uri": "https://localhost:8080/",
          "height": 36
        },
        "id": "ebziucJN8CRY",
        "outputId": "e136757a-35ce-42ac-94e0-60db0c279fb5"
      },
      "execution_count": 44,
      "outputs": [
        {
          "output_type": "execute_result",
          "data": {
            "text/plain": [
              "'  Python is great!!'"
            ],
            "application/vnd.google.colaboratory.intrinsic+json": {
              "type": "string"
            }
          },
          "metadata": {},
          "execution_count": 44
        }
      ]
    },
    {
      "cell_type": "code",
      "source": [
        "# Removing the blank space using 'strip'\n",
        "str5.strip()\n"
      ],
      "metadata": {
        "colab": {
          "base_uri": "https://localhost:8080/",
          "height": 36
        },
        "id": "oK_zhFRl8Yo9",
        "outputId": "ebaf0200-cc93-4a91-f8a8-a10e0f834b0f"
      },
      "execution_count": 45,
      "outputs": [
        {
          "output_type": "execute_result",
          "data": {
            "text/plain": [
              "'Python is great!!'"
            ],
            "application/vnd.google.colaboratory.intrinsic+json": {
              "type": "string"
            }
          },
          "metadata": {},
          "execution_count": 45
        }
      ]
    },
    {
      "cell_type": "code",
      "source": [
        "# Sentences with mmutliple statements\n",
        "sent1='NLP is great. Python is excellent.'"
      ],
      "metadata": {
        "id": "GuohyyO28sCu"
      },
      "execution_count": 46,
      "outputs": []
    },
    {
      "cell_type": "code",
      "source": [
        "# Split the sentence\n",
        "sent1.split()"
      ],
      "metadata": {
        "colab": {
          "base_uri": "https://localhost:8080/"
        },
        "id": "pTxLWJ4L9ISI",
        "outputId": "1c858339-0232-4f6c-da1b-0032652c0a99"
      },
      "execution_count": 47,
      "outputs": [
        {
          "output_type": "execute_result",
          "data": {
            "text/plain": [
              "['NLP', 'is', 'great.', 'Python', 'is', 'excellent.']"
            ]
          },
          "metadata": {},
          "execution_count": 47
        }
      ]
    },
    {
      "cell_type": "code",
      "source": [
        "# Display the sentences separately when they are separated by '.' and join them back\n",
        "# and display them on the two new lines\n",
        "print('\\n'.join(sent1.split('.')))"
      ],
      "metadata": {
        "colab": {
          "base_uri": "https://localhost:8080/"
        },
        "id": "SQcjQ9hk9ZcZ",
        "outputId": "ec7226e6-f337-4093-c416-bcdd524394da"
      },
      "execution_count": 48,
      "outputs": [
        {
          "output_type": "stream",
          "name": "stdout",
          "text": [
            "NLP is great\n",
            " Python is excellent\n",
            "\n"
          ]
        }
      ]
    },
    {
      "cell_type": "code",
      "source": [
        "sent1.strip()"
      ],
      "metadata": {
        "colab": {
          "base_uri": "https://localhost:8080/",
          "height": 36
        },
        "id": "-8NXt3Fs-qXa",
        "outputId": "58e94f47-b01f-44eb-a32d-6c0afb3baa2b"
      },
      "execution_count": 49,
      "outputs": [
        {
          "output_type": "execute_result",
          "data": {
            "text/plain": [
              "'NLP is great. Python is excellent.'"
            ],
            "application/vnd.google.colaboratory.intrinsic+json": {
              "type": "string"
            }
          },
          "metadata": {},
          "execution_count": 49
        }
      ]
    },
    {
      "cell_type": "code",
      "source": [
        "# Printing every character on the new line\n",
        "print('\\n'.join(sent1.strip()))"
      ],
      "metadata": {
        "colab": {
          "base_uri": "https://localhost:8080/"
        },
        "id": "Dtthr2Dz-zbo",
        "outputId": "8c55858a-697e-4458-9cbe-e6489f3617d2"
      },
      "execution_count": 50,
      "outputs": [
        {
          "output_type": "stream",
          "name": "stdout",
          "text": [
            "N\n",
            "L\n",
            "P\n",
            " \n",
            "i\n",
            "s\n",
            " \n",
            "g\n",
            "r\n",
            "e\n",
            "a\n",
            "t\n",
            ".\n",
            " \n",
            "P\n",
            "y\n",
            "t\n",
            "h\n",
            "o\n",
            "n\n",
            " \n",
            "i\n",
            "s\n",
            " \n",
            "e\n",
            "x\n",
            "c\n",
            "e\n",
            "l\n",
            "l\n",
            "e\n",
            "n\n",
            "t\n",
            ".\n"
          ]
        }
      ]
    },
    {
      "cell_type": "code",
      "source": [
        "print('\\n'.join([sent1.strip() for sent1 in sent1.split('.') if sent1]))"
      ],
      "metadata": {
        "colab": {
          "base_uri": "https://localhost:8080/"
        },
        "id": "RGjHGC-3_GIw",
        "outputId": "fca608bc-8a80-43ec-bca3-64ea5b2c9a90"
      },
      "execution_count": 51,
      "outputs": [
        {
          "output_type": "stream",
          "name": "stdout",
          "text": [
            "NLP is great\n",
            "Python is excellent\n"
          ]
        }
      ]
    },
    {
      "cell_type": "code",
      "source": [
        "'Hello %s' %('Python!')"
      ],
      "metadata": {
        "colab": {
          "base_uri": "https://localhost:8080/",
          "height": 36
        },
        "id": "FSX5DRz1Bpv5",
        "outputId": "ac0a2cff-4371-4cb0-d883-812469da3b18"
      },
      "execution_count": 52,
      "outputs": [
        {
          "output_type": "execute_result",
          "data": {
            "text/plain": [
              "'Hello Python!'"
            ],
            "application/vnd.google.colaboratory.intrinsic+json": {
              "type": "string"
            }
          },
          "metadata": {},
          "execution_count": 52
        }
      ]
    },
    {
      "cell_type": "code",
      "source": [
        "'Hello %s %s' %('World!', 'How are you?')"
      ],
      "metadata": {
        "colab": {
          "base_uri": "https://localhost:8080/",
          "height": 36
        },
        "id": "UNFkFR23BzTW",
        "outputId": "60c954c9-b321-4cea-8028-2e2f8c7ceaf7"
      },
      "execution_count": 53,
      "outputs": [
        {
          "output_type": "execute_result",
          "data": {
            "text/plain": [
              "'Hello World! How are you?'"
            ],
            "application/vnd.google.colaboratory.intrinsic+json": {
              "type": "string"
            }
          },
          "metadata": {},
          "execution_count": 53
        }
      ]
    },
    {
      "cell_type": "code",
      "source": [
        "'I want %d %s' %(2,'pens')"
      ],
      "metadata": {
        "colab": {
          "base_uri": "https://localhost:8080/",
          "height": 36
        },
        "id": "Kzmo5JrECFvi",
        "outputId": "8de2ed6a-c4a8-4992-f445-2bbfea526c18"
      },
      "execution_count": 54,
      "outputs": [
        {
          "output_type": "execute_result",
          "data": {
            "text/plain": [
              "'I want 2 pens'"
            ],
            "application/vnd.google.colaboratory.intrinsic+json": {
              "type": "string"
            }
          },
          "metadata": {},
          "execution_count": 54
        }
      ]
    },
    {
      "cell_type": "code",
      "source": [
        "# Formatting the string with new formatting methods - using string format {}\n",
        "'Hello {} {}, it is a great {} meeting you at {}'.format('Mr.','India','pleasure','5')"
      ],
      "metadata": {
        "colab": {
          "base_uri": "https://localhost:8080/",
          "height": 36
        },
        "id": "5VNvHAoDBLA_",
        "outputId": "88ff2062-442f-4517-be40-3f4185a506f5"
      },
      "execution_count": 55,
      "outputs": [
        {
          "output_type": "execute_result",
          "data": {
            "text/plain": [
              "'Hello Mr. India, it is a great pleasure meeting you at 5'"
            ],
            "application/vnd.google.colaboratory.intrinsic+json": {
              "type": "string"
            }
          },
          "metadata": {},
          "execution_count": 55
        }
      ]
    },
    {
      "cell_type": "code",
      "source": [
        "'Hello {} {}, it is a great {} meeting you at {} o\\'clock'.format('Mr.','India','pleasure','5')"
      ],
      "metadata": {
        "colab": {
          "base_uri": "https://localhost:8080/",
          "height": 36
        },
        "id": "Vg3FYwR0DXPV",
        "outputId": "bb76f299-0006-4309-a14b-a4fef414773f"
      },
      "execution_count": 56,
      "outputs": [
        {
          "output_type": "execute_result",
          "data": {
            "text/plain": [
              "\"Hello Mr. India, it is a great pleasure meeting you at 5 o'clock\""
            ],
            "application/vnd.google.colaboratory.intrinsic+json": {
              "type": "string"
            }
          },
          "metadata": {},
          "execution_count": 56
        }
      ]
    },
    {
      "cell_type": "code",
      "source": [
        "'Hello, I want one {food_item} and a {drink_item}'.format(food_item='vada_pav',drink_item='coffee')"
      ],
      "metadata": {
        "colab": {
          "base_uri": "https://localhost:8080/",
          "height": 36
        },
        "id": "Xt2A7v6nDvZG",
        "outputId": "6444c193-bbf0-4aa8-8934-632a28f6ea85"
      },
      "execution_count": 57,
      "outputs": [
        {
          "output_type": "execute_result",
          "data": {
            "text/plain": [
              "'Hello, I want one vada_pav and a coffee'"
            ],
            "application/vnd.google.colaboratory.intrinsic+json": {
              "type": "string"
            }
          },
          "metadata": {},
          "execution_count": 57
        }
      ]
    },
    {
      "cell_type": "code",
      "source": [
        "'The {color} {animal} is {adj1} and {adj2}'.format(color='brown',animal='fox',adj1='quick',adj2='persistent')"
      ],
      "metadata": {
        "colab": {
          "base_uri": "https://localhost:8080/",
          "height": 36
        },
        "id": "YueOHiSWEj34",
        "outputId": "da29f288-dd13-490b-f88b-5ae3fa6a1ef4"
      },
      "execution_count": 58,
      "outputs": [
        {
          "output_type": "execute_result",
          "data": {
            "text/plain": [
              "'The brown fox is quick and persistent'"
            ],
            "application/vnd.google.colaboratory.intrinsic+json": {
              "type": "string"
            }
          },
          "metadata": {},
          "execution_count": 58
        }
      ]
    },
    {
      "cell_type": "code",
      "source": [
        "'The {color} {animal} is {adj1} but {adj2}'.format(color='white',animal='rabbit',adj1='fast',adj2='lazy')"
      ],
      "metadata": {
        "colab": {
          "base_uri": "https://localhost:8080/",
          "height": 36
        },
        "id": "3sQIYoO7FS0U",
        "outputId": "eadb250e-ff05-43e1-8e9f-cccf5b18952c"
      },
      "execution_count": 59,
      "outputs": [
        {
          "output_type": "execute_result",
          "data": {
            "text/plain": [
              "'The white rabbit is fast but lazy'"
            ],
            "application/vnd.google.colaboratory.intrinsic+json": {
              "type": "string"
            }
          },
          "metadata": {},
          "execution_count": 59
        }
      ]
    },
    {
      "cell_type": "markdown",
      "source": [
        "### Working(creating and using) with regular expressions(regexes) using the module 're'\n",
        "### Regexes have the patterns denoted by thye raw string notations.\n",
        "### Pattens are matched using the string rules defined on the patterns\n",
        "### re module defines the flags which are used to match the particular pattern\n",
        "### re.I, re.S, re.U\n",
        "### Rules used for matching the patterns\n",
        "###. - matching a single character\n",
        "###^ - matching the start of the string\n",
        "###$ - matching the end of the string\n",
        "###* for matching zero\n",
        "### depending upon the requirement we can use variations of ., ^, $,...\n",
        "### | - OR, + , \\d (decimal), \\D(non - decimal) # \\s(white space), \\S(non - white space)\\w\n",
        "### (aplhanumeric),\\W(non- alphanumeric)\n",
        "### re.match(), re.search(), re.findall(),re.finditer(), re.sub(),........"
      ],
      "metadata": {
        "id": "DifCtKE3GHdY"
      }
    },
    {
      "cell_type": "code",
      "source": [
        "# working with regular expressions\n",
        "s1='Python is excellent Language'\n",
        "s2='I love Python Language. We can use python language for building the applications'"
      ],
      "metadata": {
        "id": "z22QWmmOF9EN"
      },
      "execution_count": 60,
      "outputs": []
    },
    {
      "cell_type": "code",
      "source": [
        "# Import re\n",
        "import re"
      ],
      "metadata": {
        "id": "ULnaP0_VI_ea"
      },
      "execution_count": 61,
      "outputs": []
    },
    {
      "cell_type": "code",
      "source": [
        "# define the patterns to be matched\n",
        "pattern1='python'\n",
        "pattern2='language'"
      ],
      "metadata": {
        "id": "yJ73tl_cJl2k"
      },
      "execution_count": 62,
      "outputs": []
    },
    {
      "cell_type": "code",
      "source": [
        "# match the patterns in teh sentences\n",
        "re.match(pattern1,s1)"
      ],
      "metadata": {
        "id": "piODBouyKC6A"
      },
      "execution_count": 63,
      "outputs": []
    },
    {
      "cell_type": "code",
      "source": [
        "re.match(pattern2,s1)"
      ],
      "metadata": {
        "id": "4kJTdEQPNlYZ"
      },
      "execution_count": 64,
      "outputs": []
    },
    {
      "cell_type": "code",
      "source": [
        "m1=re.match(pattern1,s1,flags=re.I) # IGNORCASE also wroks on the simialr lines"
      ],
      "metadata": {
        "id": "zS9CgHZoKQkA"
      },
      "execution_count": 65,
      "outputs": []
    },
    {
      "cell_type": "code",
      "source": [
        "m1.group(0)"
      ],
      "metadata": {
        "colab": {
          "base_uri": "https://localhost:8080/",
          "height": 36
        },
        "id": "nU5g-AXTLuRy",
        "outputId": "d9cf0576-9bd3-404b-f3c4-214bc53753f9"
      },
      "execution_count": 66,
      "outputs": [
        {
          "output_type": "execute_result",
          "data": {
            "text/plain": [
              "'Python'"
            ],
            "application/vnd.google.colaboratory.intrinsic+json": {
              "type": "string"
            }
          },
          "metadata": {},
          "execution_count": 66
        }
      ]
    },
    {
      "cell_type": "code",
      "source": [
        "m1.start()"
      ],
      "metadata": {
        "colab": {
          "base_uri": "https://localhost:8080/"
        },
        "id": "rQEkSg4SL89d",
        "outputId": "ace457ab-7b22-4c7b-ce6e-8bfcf3ec0133"
      },
      "execution_count": 67,
      "outputs": [
        {
          "output_type": "execute_result",
          "data": {
            "text/plain": [
              "0"
            ]
          },
          "metadata": {},
          "execution_count": 67
        }
      ]
    },
    {
      "cell_type": "code",
      "source": [
        "m1.end()"
      ],
      "metadata": {
        "colab": {
          "base_uri": "https://localhost:8080/"
        },
        "id": "f2CB6tzlMBVl",
        "outputId": "5719a601-c44a-4354-86b6-93246549a1e0"
      },
      "execution_count": 68,
      "outputs": [
        {
          "output_type": "execute_result",
          "data": {
            "text/plain": [
              "6"
            ]
          },
          "metadata": {},
          "execution_count": 68
        }
      ]
    },
    {
      "cell_type": "code",
      "source": [
        "# Print the matches with their indexes in the orginal sentences\n",
        "print('Match is found {} ranging from the index {} - {} in the sentence {}'.format(m1.group(0),m1.start(),m1.end(),s1))"
      ],
      "metadata": {
        "colab": {
          "base_uri": "https://localhost:8080/"
        },
        "id": "LO8-aj1FK1uN",
        "outputId": "4bf84cd2-4df5-49e4-b58d-6e464030ea89"
      },
      "execution_count": 69,
      "outputs": [
        {
          "output_type": "stream",
          "name": "stdout",
          "text": [
            "Match is found Python ranging from the index 0 - 6 in the sentence Python is excellent Language\n"
          ]
        }
      ]
    },
    {
      "cell_type": "code",
      "source": [
        "m2=re.match(pattern2,s2,flags=re.I)"
      ],
      "metadata": {
        "id": "Z6dCojwHM11G"
      },
      "execution_count": 70,
      "outputs": []
    },
    {
      "cell_type": "code",
      "source": [
        "print(m2)"
      ],
      "metadata": {
        "colab": {
          "base_uri": "https://localhost:8080/"
        },
        "id": "XgSEOR-0OQYN",
        "outputId": "16128bb4-5089-4c9b-8c98-430914459861"
      },
      "execution_count": 71,
      "outputs": [
        {
          "output_type": "stream",
          "name": "stdout",
          "text": [
            "None\n"
          ]
        }
      ]
    },
    {
      "cell_type": "markdown",
      "source": [
        "##Match does not work when pattern is not there in the beginning of sentence s2"
      ],
      "metadata": {
        "id": "HfJDD4stEyzX"
      }
    },
    {
      "cell_type": "code",
      "source": [
        "# illustrating find and search methods using the re module\n",
        "re.search(pattern2, s2, re.IGNORECASE)"
      ],
      "metadata": {
        "colab": {
          "base_uri": "https://localhost:8080/"
        },
        "id": "yVbZaG8AE3Ra",
        "outputId": "7b737727-38f4-4c6c-e7be-083b1f8a45d0"
      },
      "execution_count": 72,
      "outputs": [
        {
          "output_type": "execute_result",
          "data": {
            "text/plain": [
              "<re.Match object; span=(14, 22), match='Language'>"
            ]
          },
          "metadata": {},
          "execution_count": 72
        }
      ]
    },
    {
      "cell_type": "code",
      "source": [
        "re.findall(pattern1, s1, re.IGNORECASE)"
      ],
      "metadata": {
        "colab": {
          "base_uri": "https://localhost:8080/"
        },
        "id": "bpA1iWZV3uxp",
        "outputId": "58f14e2a-614c-40e8-bde5-2f3a8d53643c"
      },
      "execution_count": 73,
      "outputs": [
        {
          "output_type": "execute_result",
          "data": {
            "text/plain": [
              "['Python']"
            ]
          },
          "metadata": {},
          "execution_count": 73
        }
      ]
    },
    {
      "cell_type": "code",
      "source": [
        "re.findall(pattern2, s2, re.IGNORECASE)"
      ],
      "metadata": {
        "colab": {
          "base_uri": "https://localhost:8080/"
        },
        "id": "TiS5YGWp3yeQ",
        "outputId": "0ea94c52-1512-40c2-eac8-1ea5c11428a9"
      },
      "execution_count": 74,
      "outputs": [
        {
          "output_type": "execute_result",
          "data": {
            "text/plain": [
              "['Language', 'language']"
            ]
          },
          "metadata": {},
          "execution_count": 74
        }
      ]
    },
    {
      "cell_type": "code",
      "source": [
        "# To find all the occurences of pattern\n",
        "re.findall(pattern1, s2, re.IGNORECASE)"
      ],
      "metadata": {
        "colab": {
          "base_uri": "https://localhost:8080/"
        },
        "id": "TCBL0JIoFL1u",
        "outputId": "23c91e27-6f15-441e-db60-d594aca563e0"
      },
      "execution_count": 75,
      "outputs": [
        {
          "output_type": "execute_result",
          "data": {
            "text/plain": [
              "['Python', 'python']"
            ]
          },
          "metadata": {},
          "execution_count": 75
        }
      ]
    },
    {
      "cell_type": "code",
      "source": [
        "re.findall(pattern2, s2,re.I)"
      ],
      "metadata": {
        "colab": {
          "base_uri": "https://localhost:8080/"
        },
        "id": "ndYP9pOdFGz3",
        "outputId": "15cb8116-1ff7-485a-ab13-dd730528e653"
      },
      "execution_count": 76,
      "outputs": [
        {
          "output_type": "execute_result",
          "data": {
            "text/plain": [
              "['Language', 'language']"
            ]
          },
          "metadata": {},
          "execution_count": 76
        }
      ]
    },
    {
      "cell_type": "code",
      "source": [
        "match_objs = re.finditer(pattern2, s2, re.IGNORECASE)"
      ],
      "metadata": {
        "id": "WPhES1bbFiHj"
      },
      "execution_count": 77,
      "outputs": []
    },
    {
      "cell_type": "code",
      "source": [
        "match_objs"
      ],
      "metadata": {
        "colab": {
          "base_uri": "https://localhost:8080/"
        },
        "id": "4hEKp5G3Fl4N",
        "outputId": "4814c66c-5800-4cca-cf65-9af7aefb749e"
      },
      "execution_count": 78,
      "outputs": [
        {
          "output_type": "execute_result",
          "data": {
            "text/plain": [
              "<callable_iterator at 0x7d6407592e90>"
            ]
          },
          "metadata": {},
          "execution_count": 78
        }
      ]
    },
    {
      "cell_type": "code",
      "source": [
        "print(match_objs)"
      ],
      "metadata": {
        "colab": {
          "base_uri": "https://localhost:8080/"
        },
        "id": "MMahGiJj4Q5h",
        "outputId": "a81fc5e0-c689-4410-a8be-caa270578c6e"
      },
      "execution_count": 79,
      "outputs": [
        {
          "output_type": "stream",
          "name": "stdout",
          "text": [
            "<callable_iterator object at 0x7d6407592e90>\n"
          ]
        }
      ]
    },
    {
      "cell_type": "code",
      "source": [
        "print(\"Sentence :\", s2)"
      ],
      "metadata": {
        "colab": {
          "base_uri": "https://localhost:8080/"
        },
        "id": "VCVDRXOvFuKw",
        "outputId": "871df0e8-a745-451d-f8a3-ecfcdb2c1b8e"
      },
      "execution_count": 80,
      "outputs": [
        {
          "output_type": "stream",
          "name": "stdout",
          "text": [
            "Sentence : I love Python Language. We can use python language for building the applications\n"
          ]
        }
      ]
    },
    {
      "cell_type": "code",
      "source": [
        "for m in match_objs:\n",
        "  print(m.group(0))\n",
        "  print('Found match \"{}\" ranging from index {} - {}'.format\n",
        "(m.group(0), m.start(), m.end()))"
      ],
      "metadata": {
        "colab": {
          "base_uri": "https://localhost:8080/"
        },
        "id": "uEgCQBZMF2kn",
        "outputId": "d6f9bc2f-a877-4bad-dca2-3c5b779d874d"
      },
      "execution_count": 81,
      "outputs": [
        {
          "output_type": "stream",
          "name": "stdout",
          "text": [
            "Language\n",
            "Found match \"Language\" ranging from index 14 - 22\n",
            "language\n",
            "Found match \"language\" ranging from index 42 - 50\n"
          ]
        }
      ]
    },
    {
      "cell_type": "markdown",
      "source": [
        "## Regular expressions for text substitution are useful to find and replace specific text tokens in strings."
      ],
      "metadata": {
        "id": "gFxmuYDcGDEK"
      }
    },
    {
      "cell_type": "code",
      "source": [
        "print(\"Sentence :\", s2)"
      ],
      "metadata": {
        "colab": {
          "base_uri": "https://localhost:8080/"
        },
        "id": "sm35Tc8y6CTw",
        "outputId": "1ffb8aee-d25c-444d-f325-43b47087d2c8"
      },
      "execution_count": 82,
      "outputs": [
        {
          "output_type": "stream",
          "name": "stdout",
          "text": [
            "Sentence : I love Python Language. We can use python language for building the applications\n"
          ]
        }
      ]
    },
    {
      "cell_type": "code",
      "source": [
        "# illustrating pattern substitution using sub and subn methods\n",
        "re.sub(pattern1, 'Ruby', s2, flags=re.IGNORECASE)"
      ],
      "metadata": {
        "colab": {
          "base_uri": "https://localhost:8080/",
          "height": 36
        },
        "id": "UrmyPNNHGOOM",
        "outputId": "8a9d5066-5500-4f57-ef23-c51da6e9a1c5"
      },
      "execution_count": 83,
      "outputs": [
        {
          "output_type": "execute_result",
          "data": {
            "text/plain": [
              "'I love Ruby Language. We can use Ruby language for building the applications'"
            ],
            "application/vnd.google.colaboratory.intrinsic+json": {
              "type": "string"
            }
          },
          "metadata": {},
          "execution_count": 83
        }
      ]
    },
    {
      "cell_type": "code",
      "source": [
        "# To know how many times the replacement has been done\n",
        "re.subn(pattern1, 'Ruby', s2, flags=re.IGNORECASE)"
      ],
      "metadata": {
        "colab": {
          "base_uri": "https://localhost:8080/"
        },
        "id": "-0aZs6RrGleX",
        "outputId": "b165d578-5547-44a0-a8ad-2f5e731904eb"
      },
      "execution_count": 84,
      "outputs": [
        {
          "output_type": "execute_result",
          "data": {
            "text/plain": [
              "('I love Ruby Language. We can use Ruby language for building the applications',\n",
              " 2)"
            ]
          },
          "metadata": {},
          "execution_count": 84
        }
      ]
    },
    {
      "cell_type": "code",
      "source": [
        "# dealing with unicode matching using regexes\n",
        "s = u'H\\u00e8llo! this is Python 123 🐍'"
      ],
      "metadata": {
        "id": "NCtinzDoG0yQ"
      },
      "execution_count": 85,
      "outputs": []
    },
    {
      "cell_type": "code",
      "source": [
        "s"
      ],
      "metadata": {
        "colab": {
          "base_uri": "https://localhost:8080/",
          "height": 36
        },
        "id": "Rme4aJ3SG_C1",
        "outputId": "7cfad317-7b1b-404c-ab4a-1dde5cf19fe7"
      },
      "execution_count": 86,
      "outputs": [
        {
          "output_type": "execute_result",
          "data": {
            "text/plain": [
              "'Hèllo! this is Python 123 🐍'"
            ],
            "application/vnd.google.colaboratory.intrinsic+json": {
              "type": "string"
            }
          },
          "metadata": {},
          "execution_count": 86
        }
      ]
    },
    {
      "cell_type": "code",
      "source": [
        "re.findall(r'\\w+', s)"
      ],
      "metadata": {
        "colab": {
          "base_uri": "https://localhost:8080/"
        },
        "id": "AEStDVaEHOpo",
        "outputId": "76bc1a1a-ccf5-4e0b-ca5c-94ecd6d151c9"
      },
      "execution_count": 87,
      "outputs": [
        {
          "output_type": "execute_result",
          "data": {
            "text/plain": [
              "['Hèllo', 'this', 'is', 'Python', '123']"
            ]
          },
          "metadata": {},
          "execution_count": 87
        }
      ]
    },
    {
      "cell_type": "code",
      "source": [
        "re.findall(r'\\W+', s)"
      ],
      "metadata": {
        "colab": {
          "base_uri": "https://localhost:8080/"
        },
        "id": "9bLM_7Dt7qoE",
        "outputId": "af44a428-2f6f-4c10-a943-ace7dd5e75f9"
      },
      "execution_count": 88,
      "outputs": [
        {
          "output_type": "execute_result",
          "data": {
            "text/plain": [
              "['! ', ' ', ' ', ' ', ' 🐍']"
            ]
          },
          "metadata": {},
          "execution_count": 88
        }
      ]
    },
    {
      "cell_type": "code",
      "source": [
        "re.findall(r\"[A-Z]\\w+\", s, re.UNICODE)"
      ],
      "metadata": {
        "colab": {
          "base_uri": "https://localhost:8080/"
        },
        "id": "BhP46i5GHWP7",
        "outputId": "06b42684-450b-46a1-c0a4-98d9198b6bc2"
      },
      "execution_count": 89,
      "outputs": [
        {
          "output_type": "execute_result",
          "data": {
            "text/plain": [
              "['Hèllo', 'Python']"
            ]
          },
          "metadata": {},
          "execution_count": 89
        }
      ]
    },
    {
      "cell_type": "markdown",
      "source": [
        "### There are multiple ways we can print the Emojis in Python. Let’s see how to print Emojis with Unicodes, CLDR names and emoji module.\n",
        "### Using Unicodes:\n",
        "### Every emoji has a Unicode associated with it. Emojis also have a CLDR short name, which can also be used.\n",
        "###From the list of unicodes, replace “+” with “000”. For example – “U+1F600” will become “U0001F600” and prefix the unicode with “\\” and print it."
      ],
      "metadata": {
        "id": "d7lITy36InCv"
      }
    },
    {
      "cell_type": "code",
      "source": [
        "# grinning face\n",
        "print(\"\\U0001f600\")\n",
        "# grinning squinting face\n",
        "print(\"\\U0001F606\")\n",
        "# rolling on the floor laughing\n",
        "print(\"\\U0001F923\")"
      ],
      "metadata": {
        "colab": {
          "base_uri": "https://localhost:8080/"
        },
        "id": "1VdO89lJIUm0",
        "outputId": "6243ebb6-86c4-40ce-993e-30a8f099758b"
      },
      "execution_count": 90,
      "outputs": [
        {
          "output_type": "stream",
          "name": "stdout",
          "text": [
            "😀\n",
            "😆\n",
            "🤣\n"
          ]
        }
      ]
    },
    {
      "cell_type": "markdown",
      "source": [
        "## Using CLDR short name:"
      ],
      "metadata": {
        "id": "A3W0kfP2JCRU"
      }
    },
    {
      "cell_type": "code",
      "source": [
        "# grinning face\n",
        "print(\"\\N{grinning face}\")\n",
        "# slightly smiling face\n",
        "print(\"\\N{slightly smiling face}\")\n",
        "# winking face\n",
        "print(\"\\N{winking face}\")"
      ],
      "metadata": {
        "colab": {
          "base_uri": "https://localhost:8080/"
        },
        "id": "Th_LrTA-I7JG",
        "outputId": "63bd56cb-25db-4a8e-aa32-c8f412ea4fd7"
      },
      "execution_count": 91,
      "outputs": [
        {
          "output_type": "stream",
          "name": "stdout",
          "text": [
            "😀\n",
            "🙂\n",
            "😉\n"
          ]
        }
      ]
    },
    {
      "cell_type": "code",
      "source": [
        "!pip install emoji"
      ],
      "metadata": {
        "colab": {
          "base_uri": "https://localhost:8080/"
        },
        "id": "5b1y0f6lJYBG",
        "outputId": "1f7282fc-4653-4bc4-a1b4-c8cb6ae6ea39"
      },
      "execution_count": 92,
      "outputs": [
        {
          "output_type": "stream",
          "name": "stdout",
          "text": [
            "Collecting emoji\n",
            "  Downloading emoji-2.12.1-py3-none-any.whl (431 kB)\n",
            "\u001b[2K     \u001b[90m━━━━━━━━━━━━━━━━━━━━━━━━━━━━━━━━━━━━━━━━\u001b[0m \u001b[32m431.4/431.4 kB\u001b[0m \u001b[31m5.7 MB/s\u001b[0m eta \u001b[36m0:00:00\u001b[0m\n",
            "\u001b[?25hRequirement already satisfied: typing-extensions>=4.7.0 in /usr/local/lib/python3.10/dist-packages (from emoji) (4.12.2)\n",
            "Installing collected packages: emoji\n",
            "Successfully installed emoji-2.12.1\n"
          ]
        }
      ]
    },
    {
      "cell_type": "code",
      "source": [
        "# import emoji module\n",
        "import emoji"
      ],
      "metadata": {
        "id": "WW_aFfS7Jh7l"
      },
      "execution_count": 93,
      "outputs": []
    },
    {
      "cell_type": "code",
      "source": [
        "print(emoji.emojize(\":grinning_face_with_big_eyes:\"))\n",
        "print(emoji.emojize(\":winking_face_with_tongue:\"))\n",
        "print(emoji.emojize(\":zipper-mouth_face:\"))\n",
        "print(emoji.emojize(\":grinning_face_with_big_eyes:\"))\n",
        "print(emoji.emojize(\":winking_face_with_tongue:\"))"
      ],
      "metadata": {
        "id": "8qL7tqf5Jm0O",
        "colab": {
          "base_uri": "https://localhost:8080/"
        },
        "outputId": "da93022a-149f-49a7-9fe2-c61624ae1ec4"
      },
      "execution_count": 94,
      "outputs": [
        {
          "output_type": "stream",
          "name": "stdout",
          "text": [
            "😃\n",
            "😜\n",
            "🤐\n",
            "😃\n",
            "😜\n"
          ]
        }
      ]
    },
    {
      "cell_type": "code",
      "source": [
        "print(emoji.demojize(\":grinning_face_with_big_eyes:\"))\n",
        "print(emoji.demojize(\":winking_face_with_tongue:\"))\n",
        "print(emoji.demojize(\":zipper-mouth_face:\"))"
      ],
      "metadata": {
        "id": "gL0OGLWH8f9J",
        "colab": {
          "base_uri": "https://localhost:8080/"
        },
        "outputId": "652049de-1ea4-4bb4-a5d2-33d16ab7960b"
      },
      "execution_count": 95,
      "outputs": [
        {
          "output_type": "stream",
          "name": "stdout",
          "text": [
            ":grinning_face_with_big_eyes:\n",
            ":winking_face_with_tongue:\n",
            ":zipper-mouth_face:\n"
          ]
        }
      ]
    }
  ]
}